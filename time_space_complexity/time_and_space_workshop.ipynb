{
 "cells": [
  {
   "cell_type": "code",
   "execution_count": 30,
   "id": "arabic-marble",
   "metadata": {},
   "outputs": [],
   "source": [
    "import numpy as np\n",
    "from numpy import arange\n",
    "import timeit\n",
    "from timeit import Timer\n",
    "from sys import getsizeof"
   ]
  },
  {
   "cell_type": "markdown",
   "id": "liberal-weather",
   "metadata": {},
   "source": [
    "# Size "
   ]
  },
  {
   "cell_type": "markdown",
   "id": "fleet-offense",
   "metadata": {},
   "source": [
    "#### We can use the getsizeof function to measure how much space a list or array uses"
   ]
  },
  {
   "cell_type": "code",
   "execution_count": null,
   "id": "younger-humanity",
   "metadata": {},
   "outputs": [],
   "source": [
    "n_elements = 100000"
   ]
  },
  {
   "cell_type": "code",
   "execution_count": null,
   "id": "certified-beverage",
   "metadata": {},
   "outputs": [],
   "source": [
    "x_list = [x for x in range(n_elements)]\n",
    "getsizeof(x_list)"
   ]
  },
  {
   "cell_type": "code",
   "execution_count": null,
   "id": "hollywood-immigration",
   "metadata": {
    "scrolled": true
   },
   "outputs": [],
   "source": [
    "x_np = np.array(x_list)\n",
    "getsizeof(x_np)"
   ]
  },
  {
   "cell_type": "code",
   "execution_count": null,
   "id": "organized-biology",
   "metadata": {
    "scrolled": true
   },
   "outputs": [],
   "source": [
    "getsizeof(x_list) - getsizeof(x_np)"
   ]
  },
  {
   "cell_type": "markdown",
   "id": "signed-praise",
   "metadata": {},
   "source": [
    "# Timing"
   ]
  },
  {
   "cell_type": "markdown",
   "id": "nuclear-grounds",
   "metadata": {},
   "source": [
    "#### Simple Timeit use case"
   ]
  },
  {
   "cell_type": "code",
   "execution_count": null,
   "id": "disciplinary-groove",
   "metadata": {
    "scrolled": true
   },
   "outputs": [],
   "source": [
    "print(timeit.timeit('output = 10 * 12'))"
   ]
  },
  {
   "cell_type": "markdown",
   "id": "sporting-change",
   "metadata": {},
   "source": [
    "#### Timing multiple lines of code: Use semicolons or triple quotes"
   ]
  },
  {
   "cell_type": "code",
   "execution_count": null,
   "id": "taken-scholarship",
   "metadata": {},
   "outputs": [],
   "source": [
    "print(\"The time taken is \",timeit.timeit(stmt='a=10;b=12;output=a*b'))"
   ]
  },
  {
   "cell_type": "code",
   "execution_count": null,
   "id": "vanilla-static",
   "metadata": {},
   "outputs": [],
   "source": [
    "print(timeit.timeit('''\n",
    "a = 10\n",
    "b = 12\n",
    "output = a*b\n",
    "'''))"
   ]
  },
  {
   "cell_type": "markdown",
   "id": "overall-blade",
   "metadata": {},
   "source": [
    "#### You can define the number of times for timeit to run your code (the default is 1,000,000)"
   ]
  },
  {
   "cell_type": "code",
   "execution_count": null,
   "id": "polished-execution",
   "metadata": {},
   "outputs": [],
   "source": [
    "print(timeit.timeit('''\n",
    "a = 10\n",
    "b = 12\n",
    "output = a*b\n",
    "''', number = 200000))"
   ]
  },
  {
   "cell_type": "markdown",
   "id": "formal-tension",
   "metadata": {},
   "source": [
    "#### Functions can be passed from main into timeit"
   ]
  },
  {
   "cell_type": "code",
   "execution_count": null,
   "id": "rolled-practitioner",
   "metadata": {},
   "outputs": [],
   "source": [
    "def list1():\n",
    "    L = [1,3,2,4,5,7,6,8]\n",
    "    L.sort()\n",
    "\n",
    "if __name__ == '__main__':\n",
    "    print(timeit.timeit(\"list1()\", setup = \"from __main__ import list1\"))"
   ]
  },
  {
   "cell_type": "markdown",
   "id": "patent-healthcare",
   "metadata": {},
   "source": [
    "#### Test the speed of Numpy vs. Lists"
   ]
  },
  {
   "cell_type": "code",
   "execution_count": null,
   "id": "whole-quick",
   "metadata": {},
   "outputs": [],
   "source": [
    "Nelements = 10000\n",
    "Ntimeits = 10000\n",
    "\n",
    "x = arange(Nelements)\n",
    "y = range(Nelements)\n",
    "\n",
    "t_numpy = Timer(\"x.sum()\", \"from __main__ import x\")\n",
    "t_list = Timer(\"sum(y)\", \"from __main__ import y\")"
   ]
  },
  {
   "cell_type": "code",
   "execution_count": null,
   "id": "joined-carolina",
   "metadata": {
    "scrolled": true
   },
   "outputs": [],
   "source": [
    "print(\"numpy: %.3e\" % (t_numpy.timeit(Ntimeits)/Ntimeits,))\n",
    "print(\"list:  %.3e\" % (t_list.timeit(Ntimeits)/Ntimeits,))"
   ]
  },
  {
   "cell_type": "markdown",
   "id": "danish-termination",
   "metadata": {},
   "source": [
    "### Timeit can also be executed via the command line using: python -m timeit \"Statement....\""
   ]
  },
  {
   "cell_type": "markdown",
   "id": "suited-fifth",
   "metadata": {},
   "source": [
    "### Timeit works best on small snippets of code, for larger code you can use CPU profiling at the command line"
   ]
  },
  {
   "cell_type": "markdown",
   "id": "unlike-cisco",
   "metadata": {},
   "source": [
    "Download the cpu_profiling.py file, and in your command line run:\n",
    "\n",
    "```\n",
    "python -m cProfile --sort cumtime cpu_profiling.py\n",
    "```\n",
    "\n",
    "*** make sure to navigate to the correct directory first ***"
   ]
  }
 ],
 "metadata": {
  "kernelspec": {
   "display_name": "Python 3",
   "language": "python",
   "name": "python3"
  }
 },
 "nbformat": 4,
 "nbformat_minor": 5
}
